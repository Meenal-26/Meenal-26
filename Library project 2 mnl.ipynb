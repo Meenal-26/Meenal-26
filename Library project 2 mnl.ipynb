{
 "cells": [
  {
   "cell_type": "code",
   "execution_count": 4,
   "id": "5a1a6036-2553-4dab-abe4-3d5beafbba3a",
   "metadata": {},
   "outputs": [
    {
     "name": "stdout",
     "output_type": "stream",
     "text": [
      "Menu:\n",
      "1. Show Available Books\n",
      "2. Add a Book\n",
      "3. Issue a Book\n",
      "4. Return a Book\n",
      "5. Exit\n"
     ]
    },
    {
     "name": "stdin",
     "output_type": "stream",
     "text": [
      "Choose an option (1-5):  1\n"
     ]
    },
    {
     "name": "stdout",
     "output_type": "stream",
     "text": [
      "No books available in the library.\n",
      "\n",
      "\n",
      "Menu:\n",
      "1. Show Available Books\n",
      "2. Add a Book\n",
      "3. Issue a Book\n",
      "4. Return a Book\n",
      "5. Exit\n"
     ]
    },
    {
     "name": "stdin",
     "output_type": "stream",
     "text": [
      "Choose an option (1-5):  think like a monk\n"
     ]
    },
    {
     "name": "stdout",
     "output_type": "stream",
     "text": [
      "Invalid choice, please try again.\n",
      "\n",
      "Menu:\n",
      "1. Show Available Books\n",
      "2. Add a Book\n",
      "3. Issue a Book\n",
      "4. Return a Book\n",
      "5. Exit\n"
     ]
    },
    {
     "name": "stdin",
     "output_type": "stream",
     "text": [
      "Choose an option (1-5):  think like a monk\n"
     ]
    },
    {
     "name": "stdout",
     "output_type": "stream",
     "text": [
      "Invalid choice, please try again.\n",
      "\n",
      "Menu:\n",
      "1. Show Available Books\n",
      "2. Add a Book\n",
      "3. Issue a Book\n",
      "4. Return a Book\n",
      "5. Exit\n"
     ]
    },
    {
     "name": "stdin",
     "output_type": "stream",
     "text": [
      "Choose an option (1-5):  2\n",
      "Enter the name of the book to add:  think like a monk\n"
     ]
    },
    {
     "name": "stdout",
     "output_type": "stream",
     "text": [
      "'think like a monk' has been added to the library.\n",
      "\n",
      "Menu:\n",
      "1. Show Available Books\n",
      "2. Add a Book\n",
      "3. Issue a Book\n",
      "4. Return a Book\n",
      "5. Exit\n"
     ]
    },
    {
     "name": "stdin",
     "output_type": "stream",
     "text": [
      "Choose an option (1-5):  3\n"
     ]
    },
    {
     "name": "stdout",
     "output_type": "stream",
     "text": [
      "\n",
      "Available Books:\n",
      "think like a monk - Available\n",
      "\n"
     ]
    },
    {
     "name": "stdin",
     "output_type": "stream",
     "text": [
      "Enter the name of the book to issue:  think like a monk\n"
     ]
    },
    {
     "name": "stdout",
     "output_type": "stream",
     "text": [
      "'think like a monk' has been issued.\n",
      "\n",
      "Menu:\n",
      "1. Show Available Books\n",
      "2. Add a Book\n",
      "3. Issue a Book\n",
      "4. Return a Book\n",
      "5. Exit\n"
     ]
    },
    {
     "name": "stdin",
     "output_type": "stream",
     "text": [
      "Choose an option (1-5):  4\n",
      "Enter the name of the book to return:  think like a monk\n"
     ]
    },
    {
     "name": "stdout",
     "output_type": "stream",
     "text": [
      "'think like a monk' has been returned.\n",
      "\n",
      "Menu:\n",
      "1. Show Available Books\n",
      "2. Add a Book\n",
      "3. Issue a Book\n",
      "4. Return a Book\n",
      "5. Exit\n"
     ]
    },
    {
     "name": "stdin",
     "output_type": "stream",
     "text": [
      "Choose an option (1-5):  1\n"
     ]
    },
    {
     "name": "stdout",
     "output_type": "stream",
     "text": [
      "\n",
      "Available Books:\n",
      "think like a monk - Available\n",
      "\n",
      "Menu:\n",
      "1. Show Available Books\n",
      "2. Add a Book\n",
      "3. Issue a Book\n",
      "4. Return a Book\n",
      "5. Exit\n"
     ]
    },
    {
     "name": "stdin",
     "output_type": "stream",
     "text": [
      "Choose an option (1-5):  5\n"
     ]
    },
    {
     "name": "stdout",
     "output_type": "stream",
     "text": [
      "Exiting the program. Goodbye!\n"
     ]
    }
   ],
   "source": [
    "# Dictionary to store the library books and their availability\n",
    "library = {}\n",
    "\n",
    "# Function to display available books\n",
    "def show_books():\n",
    "    if not library:\n",
    "        print(\"No books available in the library.\\n\")\n",
    "    else:\n",
    "        print(\"\\nAvailable Books:\")\n",
    "        for book, status in library.items():\n",
    "            print(f\"{book} - {'Available' if status else 'Issued'}\")\n",
    "    print()\n",
    "\n",
    "# Function to add a new book\n",
    "def add_book():\n",
    "    book = input(\"Enter the name of the book to add: \")\n",
    "    if book in library:\n",
    "        print(f\"'{book}' is already in the library.\\n\")\n",
    "    else:\n",
    "        library[book] = True  # True means the book is available\n",
    "        print(f\"'{book}' has been added to the library.\\n\")\n",
    "\n",
    "# Function to issue a book\n",
    "def issue_book():\n",
    "    show_books()\n",
    "    book = input(\"Enter the name of the book to issue: \")\n",
    "    if book in library:\n",
    "        if library[book]:\n",
    "            library[book] = False  # Set to False when issued\n",
    "            print(f\"'{book}' has been issued.\\n\")\n",
    "        else:\n",
    "            print(f\"'{book}' is already issued.\\n\")\n",
    "    else:\n",
    "        print(f\"'{book}' is not available in the library.\\n\")\n",
    "# Function to return a book\n",
    "def return_book():\n",
    "    book = input(\"Enter the name of the book to return: \")\n",
    "    if book in library:\n",
    "        if not library[book]:\n",
    "            library[book] = True  # Set to True when returned\n",
    "            print(f\"'{book}' has been returned.\\n\")\n",
    "        else:\n",
    "            print(f\"'{book}' was not issued.\\n\")\n",
    "    else:\n",
    "        print(f\"'{book}' is not available in the library.\\n\")\n",
    "\n",
    "# Function to show the menu and take user input\n",
    "def menu():\n",
    "    while True:\n",
    "        print(\"Menu:\")\n",
    "        print(\"1. Show Available Books\")\n",
    "        print(\"2. Add a Book\")\n",
    "        print(\"3. Issue a Book\")\n",
    "        print(\"4. Return a Book\")\n",
    "        print(\"5. Exit\")\n",
    "        choice = input(\"Choose an option (1-5): \")\n",
    "\n",
    "        if choice == '1':\n",
    "            show_books()\n",
    "        elif choice == '2':\n",
    "            add_book()\n",
    "        elif choice == '3':\n",
    "            issue_book()\n",
    "        elif choice == '4':\n",
    "            return_book()\n",
    "        elif choice == '5':\n",
    "            print(\"Exiting the program. Goodbye!\")\n",
    "            break\n",
    "        else:\n",
    "            print(\"Invalid choice, please try again.\\n\")\n",
    "\n",
    "# Call the menu function to start the application\n",
    "menu()"
   ]
  },
  {
   "cell_type": "code",
   "execution_count": null,
   "id": "421e2eee-9bb5-482f-8922-de9a433f70e3",
   "metadata": {},
   "outputs": [],
   "source": []
  }
 ],
 "metadata": {
  "kernelspec": {
   "display_name": "Python 3 (ipykernel)",
   "language": "python",
   "name": "python3"
  },
  "language_info": {
   "codemirror_mode": {
    "name": "ipython",
    "version": 3
   },
   "file_extension": ".py",
   "mimetype": "text/x-python",
   "name": "python",
   "nbconvert_exporter": "python",
   "pygments_lexer": "ipython3",
   "version": "3.12.4"
  }
 },
 "nbformat": 4,
 "nbformat_minor": 5
}
