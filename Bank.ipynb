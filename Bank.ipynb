{
 "cells": [
  {
   "cell_type": "code",
   "execution_count": null,
   "id": "dd09db2a-829d-4ca2-8cbb-b30b01918d82",
   "metadata": {},
   "outputs": [],
   "source": [
    "                  #  BANK ACCOUNT OPEN"
   ]
  },
  {
   "cell_type": "code",
   "execution_count": 1,
   "id": "3510a146-28a7-4745-84a0-577a4b0b8a51",
   "metadata": {},
   "outputs": [
    {
     "name": "stdout",
     "output_type": "stream",
     "text": [
      "Menu:\n",
      "1. Create Account\n",
      "2. Deposit Money\n",
      "3. Withdraw Money\n",
      "4. Check Balance\n",
      "5. Exit\n"
     ]
    },
    {
     "name": "stdin",
     "output_type": "stream",
     "text": [
      "Choose an option (1-5):  1\n",
      "Enter a new account number: 232334344545\n"
     ]
    },
    {
     "name": "stdout",
     "output_type": "stream",
     "text": [
      "Account'232334344545'has been created with a balance of 0.\n",
      "\n",
      "Menu:\n",
      "1. Create Account\n",
      "2. Deposit Money\n",
      "3. Withdraw Money\n",
      "4. Check Balance\n",
      "5. Exit\n"
     ]
    },
    {
     "name": "stdin",
     "output_type": "stream",
     "text": [
      "Choose an option (1-5):  2\n",
      "Enter account number: 200\n"
     ]
    },
    {
     "name": "stdout",
     "output_type": "stream",
     "text": [
      "Account not found.\n",
      "\n",
      "Menu:\n",
      "1. Create Account\n",
      "2. Deposit Money\n",
      "3. Withdraw Money\n",
      "4. Check Balance\n",
      "5. Exit\n"
     ]
    },
    {
     "name": "stdin",
     "output_type": "stream",
     "text": [
      "Choose an option (1-5):  2\n",
      "Enter account number: 232334344545\n",
      "Enter amount to deposit: 40000\n"
     ]
    },
    {
     "name": "stdout",
     "output_type": "stream",
     "text": [
      "40000.0has been deposited into account'232334344545'.New balance:40000.0\n",
      "\n",
      "Menu:\n",
      "1. Create Account\n",
      "2. Deposit Money\n",
      "3. Withdraw Money\n",
      "4. Check Balance\n",
      "5. Exit\n"
     ]
    },
    {
     "name": "stdin",
     "output_type": "stream",
     "text": [
      "Choose an option (1-5):  3\n",
      "Enter account number:  232334344545\n",
      "Enter amount to withdraw:  10000\n"
     ]
    },
    {
     "name": "stdout",
     "output_type": "stream",
     "text": [
      "10000.0 has been withdrawn from account '232334344545'. New balance: 30000.0\n",
      "\n",
      "Menu:\n",
      "1. Create Account\n",
      "2. Deposit Money\n",
      "3. Withdraw Money\n",
      "4. Check Balance\n",
      "5. Exit\n"
     ]
    },
    {
     "name": "stdin",
     "output_type": "stream",
     "text": [
      "Choose an option (1-5):  4\n",
      "Enter account number:  232334344545\n"
     ]
    },
    {
     "name": "stdout",
     "output_type": "stream",
     "text": [
      "Balance for account '232334344545': 30000.0\n",
      "\n",
      "Menu:\n",
      "1. Create Account\n",
      "2. Deposit Money\n",
      "3. Withdraw Money\n",
      "4. Check Balance\n",
      "5. Exit\n"
     ]
    },
    {
     "name": "stdin",
     "output_type": "stream",
     "text": [
      "Choose an option (1-5):  5\n"
     ]
    },
    {
     "name": "stdout",
     "output_type": "stream",
     "text": [
      "Exiting the program. Goodbye!\n"
     ]
    }
   ],
   "source": [
    "bank_accounts={}\n",
    "#Function to create a new account \n",
    "def create_account():\n",
    "    account_number=input(\"Enter a new account number:\")\n",
    "    if account_number in bank_accounts:\n",
    "        print(\"Account already exist!\\n\")\n",
    "    else:\n",
    "        bank_accounts[account_number]=0 #initial balance is 0\n",
    "        print(f\"Account'{account_number}'has been created with a balance of 0.\\n\")\n",
    "#Function to deposit money\n",
    "def deposit_money():\n",
    "    account_number=input(\"Enter account number:\")\n",
    "    if account_number in bank_accounts:\n",
    "        amount = float(input(\"Enter amount to deposit:\"))\n",
    "        bank_accounts[account_number]+=amount\n",
    "        print(f\"{amount}has been deposited into account'{account_number}'.New balance:{bank_accounts[account_number]}\\n\")\n",
    "    else:\n",
    "        print(\"Account not found.\\n\") \n",
    "# Function to withdraw money\n",
    "def withdraw_money():\n",
    "    account_number = input(\"Enter account number: \")\n",
    "    if account_number in bank_accounts:\n",
    "        amount = float(input(\"Enter amount to withdraw: \"))\n",
    "        if bank_accounts[account_number] >= amount:\n",
    "            bank_accounts[account_number] -= amount\n",
    "            print(f\"{amount} has been withdrawn from account '{account_number}'. New balance: {bank_accounts[account_number]}\\n\")\n",
    "        else:\n",
    "            print(\"Insufficient balance.\\n\")\n",
    "    else:\n",
    "        print(\"Account not found.\\n\")\n",
    "# Function to check balance\n",
    "def check_balance():\n",
    "    account_number = input(\"Enter account number: \")\n",
    "    if account_number in bank_accounts:\n",
    "        print(f\"Balance for account '{account_number}': {bank_accounts[account_number]}\\n\")\n",
    "    else:\n",
    "        print(\"Account not found.\\n\")\n",
    "        \n",
    "# Function to show the menu and take user input\n",
    "def menu():\n",
    "    while True:\n",
    "        print(\"Menu:\")\n",
    "        print(\"1. Create Account\")\n",
    "        print(\"2. Deposit Money\")\n",
    "        print(\"3. Withdraw Money\")\n",
    "        print(\"4. Check Balance\")\n",
    "        print(\"5. Exit\")\n",
    "        choice = input(\"Choose an option (1-5): \")\n",
    "\n",
    "        if choice == '1':\n",
    "            create_account()\n",
    "        elif choice == '2':\n",
    "            deposit_money()\n",
    "        elif choice == '3':\n",
    "            withdraw_money()\n",
    "        elif choice == '4':\n",
    "            check_balance()\n",
    "        elif choice == '5':\n",
    "            print(\"Exiting the program. Goodbye!\")\n",
    "            break\n",
    "        else:\n",
    "            print(\"Invalid choice, please try again.\\n\")\n",
    "\n",
    "\n",
    "menu()"
   ]
  },
  {
   "cell_type": "code",
   "execution_count": null,
   "id": "9104f45b-134f-46bd-9e20-c17218189e46",
   "metadata": {},
   "outputs": [],
   "source": []
  },
  {
   "cell_type": "code",
   "execution_count": null,
   "id": "cfccd4f1-9e91-4c7e-8644-1e8fcc92eb5e",
   "metadata": {},
   "outputs": [],
   "source": []
  },
  {
   "cell_type": "code",
   "execution_count": null,
   "id": "f3ee4f63-f8f5-453c-be3a-d96eb50a57b3",
   "metadata": {},
   "outputs": [],
   "source": []
  }
 ],
 "metadata": {
  "kernelspec": {
   "display_name": "Python 3 (ipykernel)",
   "language": "python",
   "name": "python3"
  },
  "language_info": {
   "codemirror_mode": {
    "name": "ipython",
    "version": 3
   },
   "file_extension": ".py",
   "mimetype": "text/x-python",
   "name": "python",
   "nbconvert_exporter": "python",
   "pygments_lexer": "ipython3",
   "version": "3.12.4"
  }
 },
 "nbformat": 4,
 "nbformat_minor": 5
}
